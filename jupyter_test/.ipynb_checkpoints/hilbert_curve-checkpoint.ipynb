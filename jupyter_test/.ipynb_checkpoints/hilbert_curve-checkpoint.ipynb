{
 "cells": [
  {
   "cell_type": "code",
   "execution_count": 11,
   "id": "f6761297",
   "metadata": {},
   "outputs": [],
   "source": [
    "import numpy as np\n",
    "import math\n",
    "import itertools\n",
    "from hilbertcurve.hilbertcurve import HilbertCurve\n"
   ]
  },
  {
   "cell_type": "code",
   "execution_count": 38,
   "id": "c4644e08",
   "metadata": {},
   "outputs": [
    {
     "name": "stdout",
     "output_type": "stream",
     "text": [
      "512\n"
     ]
    }
   ],
   "source": [
    "def generate_lattice(m, d):\n",
    "    # The side length of the lattice along each dimension\n",
    "    side_length = 2**m\n",
    "    \n",
    "    # Number of points in the lattice\n",
    "    num_points = side_length**d\n",
    "    \n",
    "    # Initialize output array\n",
    "    output = np.zeros((num_points, d))\n",
    "    \n",
    "    # Generate coordinates for the lattice points\n",
    "    index = 0\n",
    "    for point in itertools.product(range(side_length), repeat=d):\n",
    "        output[index] = point\n",
    "        index += 1\n",
    "    \n",
    "    return output\n",
    "\n",
    "# Lattice size is 2^m\n",
    "m = 3\n",
    "# Dimension of the system\n",
    "d = 3\n",
    "points = generate_lattice(m, d)\n",
    "print(len(points))\n",
    "# the number of iterations to construc Hilbert curves\n",
    "# p = round(math.pow(points.shape[0], 1/d))\n",
    "p = m\n",
    "# Considering the n-dimensional hypercube of side length 2^p\n",
    "num_points = (2**m)**d\n",
    "hilbert_curve = HilbertCurve(p, d)\n",
    "scan_idx = hilbert_curve.distances_from_points(points, match_type=False)\n"
   ]
  },
  {
   "cell_type": "code",
   "execution_count": 40,
   "id": "241d7ab1",
   "metadata": {},
   "outputs": [
    {
     "name": "stdout",
     "output_type": "stream",
     "text": [
      "[  1   4  61  64  65  72  73  74   8   5  60  57  68  69  76  75   9  12\n",
      "  53  56 125 124 117 118  10  11  54  55 128 121 120 119 247 246 203 202\n",
      " 129 136 137 138 242 243 206 207 130 135 144 143 239 234 215 210 159 154\n",
      " 145 146 238 235 214 211 158 155 148 147   2   3  62  63  66  71  80  79\n",
      "   7   6  59  58  67  70  77  78  16  13  52  49 126 123 116 115  15  14\n",
      "  51  50 127 122 113 114 248 245 204 201 132 133 140 139 241 244 205 208\n",
      " 131 134 141 142 240 233 216 209 160 153 152 151 237 236 213 212 157 156\n",
      " 149 150  31  32  33  34  95  90  81  82  26  25  40  39  96  89  88  87\n",
      "  17  24  41  48  97 104 105 106  18  23  42  47  98 103 112 111 249 252\n",
      " 197 200 189 188 181 182 250 251 198 199 190 187 180 179 231 232 217 218\n",
      " 161 168 169 170 230 229 220 219 164 165 172 171  30  29  36  35  94  91\n",
      "  84  83  27  28  37  38  93  92  85  86  20  21  44  45 100 101 108 107\n",
      "  19  22  43  46  99 102 109 110 256 253 196 193 192 185 184 183 255 254\n",
      " 195 194 191 186 177 178 226 225 224 223 162 167 176 175 227 228 221 222\n",
      " 163 166 173 174 483 484 477 478 419 422 429 430 486 485 476 475 420 421\n",
      " 428 427 493 492 469 468 413 412 405 406 494 491 470 467 414 411 404 403\n",
      " 257 260 317 320 321 328 329 330 258 259 318 319 322 327 336 335 287 288\n",
      " 289 290 351 346 337 338 286 285 292 291 350 347 340 339 482 481 480 479\n",
      " 418 423 432 431 487 488 473 474 417 424 425 426 496 489 472 465 416 409\n",
      " 408 407 495 490 471 466 415 410 401 402 264 261 316 313 324 325 332 331\n",
      " 263 262 315 314 323 326 333 334 282 281 296 295 352 345 344 343 283 284\n",
      " 293 294 349 348 341 342 511 510 451 450 447 442 433 434 506 507 454 455\n",
      " 446 443 436 435 497 500 461 464 387 390 397 398 498 499 462 463 386 391\n",
      " 400 399 265 268 309 312 381 380 373 374 272 269 308 305 382 379 372 371\n",
      " 273 280 297 304 353 360 361 362 276 277 300 301 356 357 364 363 512 509\n",
      " 452 449 448 441 440 439 505 508 453 456 445 444 437 438 504 501 460 457\n",
      " 388 389 396 395 503 502 459 458 385 392 393 394 266 267 310 311 384 377\n",
      " 376 375 271 270 307 306 383 378 369 370 274 279 298 303 354 359 368 367\n",
      " 275 278 299 302 355 358 365 366]\n",
      "[8, 8, 8]\n"
     ]
    }
   ],
   "source": [
    "\n",
    "# Scan idx for MATLAB\n",
    "mat_scan_idx = [i+1 for i in scan_idx]\n",
    "mat_scan_idx = np.array(mat_scan_idx)\n",
    "\n",
    "# print(mat_scan_idx)\n",
    "\n",
    "def reshape_array(arr, d, m):\n",
    "    new_shape = [2**m]*d\n",
    "    return arr.reshape(new_shape)\n",
    "\n",
    "indMat = reshape_array(mat_scan_idx, d, m)\n"
   ]
  },
  {
   "cell_type": "code",
   "execution_count": 42,
   "id": "662741f4",
   "metadata": {},
   "outputs": [],
   "source": [
    "from scipy.io import savemat\n",
    "savemat('indMat.mat', {'indMat': indMat})"
   ]
  }
 ],
 "metadata": {
  "kernelspec": {
   "display_name": "Python 3 (ipykernel)",
   "language": "python",
   "name": "python3"
  },
  "language_info": {
   "codemirror_mode": {
    "name": "ipython",
    "version": 3
   },
   "file_extension": ".py",
   "mimetype": "text/x-python",
   "name": "python",
   "nbconvert_exporter": "python",
   "pygments_lexer": "ipython3",
   "version": "3.11.4"
  }
 },
 "nbformat": 4,
 "nbformat_minor": 5
}
